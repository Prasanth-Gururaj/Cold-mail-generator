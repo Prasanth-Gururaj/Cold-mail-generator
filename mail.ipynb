{
 "cells": [
  {
   "cell_type": "code",
   "execution_count": 1,
   "id": "376b1f74-5f8c-4450-96ea-c1598be4fc34",
   "metadata": {},
   "outputs": [
    {
     "name": "stdout",
     "output_type": "stream",
     "text": [
      "content='The first person to land on the moon was Neil Armstrong. He stepped out of the lunar module Eagle and onto the moon\\'s surface on July 20, 1969, during the Apollo 11 mission. Armstrong famously declared, \"That\\'s one small step for man, one giant leap for mankind,\" as he became the first human to set foot on the moon.' additional_kwargs={} response_metadata={'token_usage': {'completion_tokens': 75, 'prompt_tokens': 42, 'total_tokens': 117, 'completion_time': 0.3, 'prompt_time': 0.007185508, 'queue_time': 0.006447121, 'total_time': 0.307185508}, 'model_name': 'llama-3.1-70b-versatile', 'system_fingerprint': 'fp_b3ae7e594e', 'finish_reason': 'stop', 'logprobs': None} id='run-aa2a95bc-539b-4bcd-b0a3-72e59f52b935-0' usage_metadata={'input_tokens': 42, 'output_tokens': 75, 'total_tokens': 117}\n"
     ]
    }
   ],
   "source": [
    "from langchain_groq import ChatGroq\n",
    "\n",
    "llm = ChatGroq(\n",
    "    temperature = 0,\n",
    "    groq_api_key = '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',\n",
    "    model_name = \"llama-3.1-70b-versatile\"\n",
    "    # other params...\n",
    ")\n",
    "\n",
    "response = llm.invoke(\"The first person to land on moon\")\n",
    "print(response)"
   ]
  },
  {
   "cell_type": "code",
   "execution_count": 3,
   "id": "c1e44b96-d0fb-40c6-bbd2-4f12a6ff1842",
   "metadata": {},
   "outputs": [
    {
     "name": "stderr",
     "output_type": "stream",
     "text": [
      "USER_AGENT environment variable not set, consider setting it to identify your requests.\n"
     ]
    },
    {
     "name": "stdout",
     "output_type": "stream",
     "text": [
      "Apply for Software Engineer\n",
      "\n",
      "Search JobsSkip navigationSearch JobsNIKE, INC. JOBSContract JobsJoin The Talent CommunityLife @ NikeOverviewBenefitsBrandsOverviewJordanConverseTeamsOverviewAdministrative SupportAdvanced InnovationAir Manufacturing InnovationAviationCommunicationsCustomer ServiceDesignDigitalFacilitiesFinance & AccountingGovernment & Public AffairsHuman ResourcesInsights & AnalyticsLegalManufacturing & EngineeringMarketingMerchandisingPlanningPrivacyProcurementProduct Creation, Development & ManagementRetail CorporateRetail StoresSalesSocial & Community ImpactSports MarketingStrategic PlanningSupply Chain, Distribution & LogisticsSustainabilityTechnologyLocationsOverviewNike WHQNike New York HQEHQ: Hilversum, The NetherlandsELC: Laakdal, BelgiumGreater China HQDiversity, Equity & InclusionOverviewMilitary InclusionDisability InclusionIndigenous InclusionInternshipsTechnologySoftware EngineerBeaverton, OregonBecome a Part of the NIKE, Inc. TeamNIKE, Inc. does more than outfit the world’s best athletes. It is a place to explore potential, obliterate boundaries and push out the edges of what can be. The company looks for people who can grow, think, dream and create. Its culture thrives by embracing diversity and rewarding imagination. The brand seeks achievers, leaders and visionaries. At NIKE, Inc. it’s about each person bringing skills and passion to a challenging and constantly evolving game.NIKE is a technology company. From our flagship website and five-star mobile apps to developing products, managing big data and providing leading edge engineering and systems support, our teams at NIKE Global Technology exist to revolutionize the future at the confluence of tech and sport. We invest and develop advances in technology and employ the most creative people in the world, and then give them the support to constantly innovate, iterate and serve consumers more directly and personally.  Our teams are innovative, diverse, multidisciplinary and collaborative, taking technology into the future and bringing the world with it.Software Engineer – NIKE, Inc., Beaverton, OR  Develop, code, and configure test programs/systems while solutioning problems in order to meet defined digital product specifications and direction; Develop robust advanced analytics and machine learning solutions that have a direct impact on the business; Collaborate in the design and build of scalable software solutions; Implement and integrate new technologies while also managing and evolving existing platforms; Design and implement scalable applications that leverage prediction models and optimization programs to deliver data driven decisions that result in immense business impact; Assess a well-defined problem and lead the development of a technical solution that meets the needs of the business and aligns with architectural standards; Deliver a platform ecosystem for internal apps to produce and consume data; Contribute to core advanced analytics and machine learning platforms and tools to enable both prediction and optimization model development; Develop products focused primarily on consumer data; and Deliver results/solutions with an emphasis on learning new technologies and techniques. Telecommuting is available from anywhere in the U.S., except from AK, AL, AR, DE, HI, IA, ID, IN, KS, KY, LA, MT, ND, NE, NH, NM, NV, OH, OK, RI, SD, VT, WV, and WY. Employer will accept a Master’s degree in Computer Science, Engineering, or Computer Information Systems and 2 years of experience in the job offered or in a computer-related occupation.   Experience must include the following:  JavaNodeJSDynamoDBAWSAgile Practices using ScrumAPI DevelopmentCI/CDJSON and XML Markup LanguageIntegration TestingAutomation TestingRelational Databases such as Oracle Apply at www.jobs.nike.com (Job #R-42404 )#LI-DNINIKE, Inc. is a growth company that looks for team members to grow with it. Nike offers a generous total rewards package, casual work environment, a diverse and inclusive culture, and an electric atmosphere for professional development. No matter the location, or the role, every Nike employee shares one galvanizing mission: To bring inspiration and innovation to every athlete* in the world.NIKE, Inc. is committed to employing a diverse workforce. Qualified applicants will receive consideration without regard to race, color, religion, sex, national origin, age, sexual orientation, gender identity, gender expression, veteran status, or disability.How We HireAt NIKE, Inc. we promise to provide a premium, inclusive, compelling and authentic candidate experience. Delivering on this promise means we allow you to be at your best — and to do that, you need to understand how the hiring process works. Transparency is key.\n",
      "\n",
      "* This overview explains our hiring process for corporate roles. Note there may be different hiring steps involved for non-corporate roles.Start nowBenefitsWhether it’s transportation or financial health, we continually invest in our employees to help them achieve greatness — inside and outside of work. All who work here should be able to realize their full potential.Employee Assistance ProgramEmployee Stock Purchase Plan (ESPP)HolidaysMedical PlanPaid Time Off (PTO)Product DiscountsSabbaticalsLearn moreGIFT CARDSPROMOTIONSFIND A STORESIGN UP FOR EMAILBECOME A MEMBERNIKE JOURNALSEND US FEEDBACKGET HELPGET HELPOrder StatusShipping and DeliveryReturnsPayment OptionsGift Cards BalanceContact UsABOUT NIKEABOUT NIKENewsCareersInvestorsPurposeSustainabilityUnited States© 2024 Nike, Inc. All Rights ReservedGuidesNike AdaptNike Air MaxNike FlyleatherNike ReactSpace HippieNike AirNike FlyEaseNike Free Nike VaporflyNike Air Force 1 Nike FlyknitNike JoyrideNike ZoomXTerms of SaleTerms of UseNike Privacy PolicyYour Privacy ChoicesCA Supply Chain Act\n"
     ]
    }
   ],
   "source": [
    "from langchain_community.document_loaders import WebBaseLoader\n",
    "\n",
    "loader = WebBaseLoader(\"https://jobs.nike.com/job/R-42404\")\n",
    "page_data= loader.load().pop().page_content\n",
    "print(page_data)"
   ]
  },
  {
   "cell_type": "code",
   "execution_count": 9,
   "id": "bcaa9a15-02e4-4f12-8200-21578d5e9aea",
   "metadata": {},
   "outputs": [
    {
     "name": "stdout",
     "output_type": "stream",
     "text": [
      "```json\n",
      "{\n",
      "  \"role\": \"Software Engineer\",\n",
      "  \"experience\": \"2 years\",\n",
      "  \"skills\": [\n",
      "    \"Java\",\n",
      "    \"NodeJS\",\n",
      "    \"DynamoDB\",\n",
      "    \"AWS\",\n",
      "    \"Agile Practices using Scrum\",\n",
      "    \"API Development\",\n",
      "    \"CI/CD\",\n",
      "    \"JSON and XML Markup Language\",\n",
      "    \"Integration Testing\",\n",
      "    \"Automation Testing\",\n",
      "    \"Relational Databases such as Oracle\"\n",
      "  ],\n",
      "  \"description\": \"Develop, code, and configure test programs/systems while solutioning problems in order to meet defined digital product specifications and direction; Develop robust advanced analytics and machine learning solutions that have a direct impact on the business; Collaborate in the design and build of scalable software solutions; Implement and integrate new technologies while also managing and evolving existing platforms; Design and implement scalable applications that leverage prediction models and optimization programs to deliver data driven decisions that result in immense business impact; Assess a well-defined problem and lead the development of a technical solution that meets the needs of the business and aligns with architectural standards; Deliver a platform ecosystem for internal apps to produce and consume data; Contribute to core advanced analytics and machine learning platforms and tools to enable both prediction and optimization model development; Develop products focused primarily on consumer data; and Deliver results/solutions with an emphasis on learning new technologies and techniques.\"\n",
      "}\n",
      "```\n"
     ]
    }
   ],
   "source": [
    "from langchain_core.prompts import PromptTemplate\n",
    "\n",
    "prompt_extract = PromptTemplate.from_template(\n",
    "    \"\"\"\n",
    "    ### SCRAPED TEXT FROM WEBSITE:\n",
    "    {page_data}\n",
    "    ### INSTRUCTION:\n",
    "    The scraped text is from the career's page of a website.\n",
    "    Your job is to extract the job posting and return them in JSON format containing \n",
    "    following keys: `role`, `experience`,`skills` and `description`.\n",
    "    Only return the valid JSON.\n",
    "    ### VALID JSON (NO PREAMBLE):\n",
    "    \"\"\"\n",
    ")\n",
    "\n",
    "chain_extract = prompt_extract | llm\n",
    "res = chain_extract.invoke(input={'page_data':page_data })\n",
    "print(res.content)\n"
   ]
  },
  {
   "cell_type": "code",
   "execution_count": 10,
   "id": "ec10260d-35ad-47cf-b9e2-fe4d3240e4f6",
   "metadata": {},
   "outputs": [
    {
     "data": {
      "text/plain": [
       "{'role': 'Software Engineer',\n",
       " 'experience': '2 years',\n",
       " 'skills': ['Java',\n",
       "  'NodeJS',\n",
       "  'DynamoDB',\n",
       "  'AWS',\n",
       "  'Agile Practices using Scrum',\n",
       "  'API Development',\n",
       "  'CI/CD',\n",
       "  'JSON and XML Markup Language',\n",
       "  'Integration Testing',\n",
       "  'Automation Testing',\n",
       "  'Relational Databases such as Oracle'],\n",
       " 'description': 'Develop, code, and configure test programs/systems while solutioning problems in order to meet defined digital product specifications and direction; Develop robust advanced analytics and machine learning solutions that have a direct impact on the business; Collaborate in the design and build of scalable software solutions; Implement and integrate new technologies while also managing and evolving existing platforms; Design and implement scalable applications that leverage prediction models and optimization programs to deliver data driven decisions that result in immense business impact; Assess a well-defined problem and lead the development of a technical solution that meets the needs of the business and aligns with architectural standards; Deliver a platform ecosystem for internal apps to produce and consume data; Contribute to core advanced analytics and machine learning platforms and tools to enable both prediction and optimization model development; Develop products focused primarily on consumer data; and Deliver results/solutions with an emphasis on learning new technologies and techniques.'}"
      ]
     },
     "execution_count": 10,
     "metadata": {},
     "output_type": "execute_result"
    }
   ],
   "source": [
    "from langchain_core.output_parsers import JsonOutputParser\n",
    "\n",
    "json_parser = JsonOutputParser()\n",
    "json_res = json_parser.parse(res.content)\n",
    "json_res"
   ]
  },
  {
   "cell_type": "code",
   "execution_count": 11,
   "id": "ac7399f0-cf33-49ef-a720-c8547209c793",
   "metadata": {},
   "outputs": [],
   "source": [
    "import pandas as pd \n",
    "df = pd.read_csv(\"my_portfolio.csv\")"
   ]
  },
  {
   "cell_type": "code",
   "execution_count": 12,
   "id": "f9ba5baa-2017-48de-9be1-6e8295d35749",
   "metadata": {},
   "outputs": [
    {
     "data": {
      "text/html": [
       "<div>\n",
       "<style scoped>\n",
       "    .dataframe tbody tr th:only-of-type {\n",
       "        vertical-align: middle;\n",
       "    }\n",
       "\n",
       "    .dataframe tbody tr th {\n",
       "        vertical-align: top;\n",
       "    }\n",
       "\n",
       "    .dataframe thead th {\n",
       "        text-align: right;\n",
       "    }\n",
       "</style>\n",
       "<table border=\"1\" class=\"dataframe\">\n",
       "  <thead>\n",
       "    <tr style=\"text-align: right;\">\n",
       "      <th></th>\n",
       "      <th>Techstack</th>\n",
       "      <th>Links</th>\n",
       "    </tr>\n",
       "  </thead>\n",
       "  <tbody>\n",
       "    <tr>\n",
       "      <th>0</th>\n",
       "      <td>React, Node.js, MongoDB</td>\n",
       "      <td>https://example.com/react-portfolio</td>\n",
       "    </tr>\n",
       "    <tr>\n",
       "      <th>1</th>\n",
       "      <td>Angular,.NET, SQL Server</td>\n",
       "      <td>https://example.com/angular-portfolio</td>\n",
       "    </tr>\n",
       "    <tr>\n",
       "      <th>2</th>\n",
       "      <td>Vue.js, Ruby on Rails, PostgreSQL</td>\n",
       "      <td>https://example.com/vue-portfolio</td>\n",
       "    </tr>\n",
       "    <tr>\n",
       "      <th>3</th>\n",
       "      <td>Python, Django, MySQL</td>\n",
       "      <td>https://example.com/python-portfolio</td>\n",
       "    </tr>\n",
       "    <tr>\n",
       "      <th>4</th>\n",
       "      <td>Java, Spring Boot, Oracle</td>\n",
       "      <td>https://example.com/java-portfolio</td>\n",
       "    </tr>\n",
       "  </tbody>\n",
       "</table>\n",
       "</div>"
      ],
      "text/plain": [
       "                           Techstack                                  Links\n",
       "0            React, Node.js, MongoDB    https://example.com/react-portfolio\n",
       "1           Angular,.NET, SQL Server  https://example.com/angular-portfolio\n",
       "2  Vue.js, Ruby on Rails, PostgreSQL      https://example.com/vue-portfolio\n",
       "3              Python, Django, MySQL   https://example.com/python-portfolio\n",
       "4          Java, Spring Boot, Oracle     https://example.com/java-portfolio"
      ]
     },
     "execution_count": 12,
     "metadata": {},
     "output_type": "execute_result"
    }
   ],
   "source": [
    "df.head()"
   ]
  },
  {
   "cell_type": "code",
   "execution_count": 16,
   "id": "d3326240-40bb-4df1-a7b3-7ab13ae9c175",
   "metadata": {},
   "outputs": [
    {
     "name": "stderr",
     "output_type": "stream",
     "text": [
      "C:\\Users\\prg\\.cache\\chroma\\onnx_models\\all-MiniLM-L6-v2\\onnx.tar.gz: 100%|███████| 79.3M/79.3M [00:02<00:00, 31.6MiB/s]\n"
     ]
    }
   ],
   "source": [
    "import chromadb\n",
    "\n",
    "import uuid\n",
    "\n",
    "client = chromadb.PersistentClient('vectorstore')\n",
    "collection = client.get_or_create_collection(name=\"portfolio\")\n",
    "\n",
    "if not collection.count():\n",
    "    for _, row in df.iterrows():\n",
    "        collection.add(documents=row[\"Techstack\"],\n",
    "                       metadatas={\"links\": row[\"Links\"]},\n",
    "                       ids=[str(uuid.uuid4())])"
   ]
  },
  {
   "cell_type": "code",
   "execution_count": 20,
   "id": "f21b3d56-1c79-4626-ac62-ed20bb1b65e8",
   "metadata": {},
   "outputs": [
    {
     "data": {
      "text/plain": [
       "[[{'links': 'https://example.com/java-portfolio'},\n",
       "  {'links': 'https://example.com/android-portfolio'}],\n",
       " [{'links': 'https://example.com/react-portfolio'},\n",
       "  {'links': 'https://example.com/react-native-portfolio'}],\n",
       " [{'links': 'https://example.com/flutter-portfolio'},\n",
       "  {'links': 'https://example.com/kotlin-android-portfolio'}],\n",
       " [{'links': 'https://example.com/ios-ar-portfolio'},\n",
       "  {'links': 'https://example.com/wordpress-portfolio'}],\n",
       " [{'links': 'https://example.com/kotlin-backend-portfolio'},\n",
       "  {'links': 'https://example.com/java-portfolio'}],\n",
       " [{'links': 'https://example.com/flutter-portfolio'},\n",
       "  {'links': 'https://example.com/ios-ar-portfolio'}],\n",
       " [{'links': 'https://example.com/magento-portfolio'},\n",
       "  {'links': 'https://example.com/wordpress-portfolio'}],\n",
       " [{'links': 'https://example.com/full-stack-js-portfolio'},\n",
       "  {'links': 'https://example.com/react-portfolio'}],\n",
       " [{'links': 'https://example.com/devops-portfolio'},\n",
       "  {'links': 'https://example.com/magento-portfolio'}],\n",
       " [{'links': 'https://example.com/ml-python-portfolio'},\n",
       "  {'links': 'https://example.com/devops-portfolio'}],\n",
       " [{'links': 'https://example.com/magento-portfolio'},\n",
       "  {'links': 'https://example.com/java-portfolio'}]]"
      ]
     },
     "execution_count": 20,
     "metadata": {},
     "output_type": "execute_result"
    }
   ],
   "source": [
    "links = collection.query(query_texts=job['skills'], n_results=2).get('metadatas', [])\n",
    "links"
   ]
  },
  {
   "cell_type": "code",
   "execution_count": 19,
   "id": "d3c5e481-ce95-4d6b-8e12-e4ffea17a02c",
   "metadata": {},
   "outputs": [
    {
     "data": {
      "text/plain": [
       "['Java',\n",
       " 'NodeJS',\n",
       " 'DynamoDB',\n",
       " 'AWS',\n",
       " 'Agile Practices using Scrum',\n",
       " 'API Development',\n",
       " 'CI/CD',\n",
       " 'JSON and XML Markup Language',\n",
       " 'Integration Testing',\n",
       " 'Automation Testing',\n",
       " 'Relational Databases such as Oracle']"
      ]
     },
     "execution_count": 19,
     "metadata": {},
     "output_type": "execute_result"
    }
   ],
   "source": [
    "job = json_res\n",
    "job['skills']"
   ]
  },
  {
   "cell_type": "code",
   "execution_count": 21,
   "id": "27ab14c7-7ab6-44c5-9607-35e23e74cd16",
   "metadata": {},
   "outputs": [
    {
     "name": "stdout",
     "output_type": "stream",
     "text": [
      "Subject: Expert Software Engineering Solutions for Your Business Needs\n",
      "\n",
      "Dear Hiring Manager,\n",
      "\n",
      "I came across your job posting for a Software Engineer with expertise in Java, NodeJS, DynamoDB, AWS, and Agile Practices using Scrum. I'd like to introduce you to Tesla, a leading AI & Software Consulting company that can help you find the perfect fit for this role.\n",
      "\n",
      "At Tesla, we have a proven track record of delivering scalable software solutions that meet the needs of businesses like yours. Our team of experts has extensive experience in developing robust advanced analytics and machine learning solutions that drive business impact. We're confident that our capabilities align with your requirements, and we'd love to explore how we can support your organization.\n",
      "\n",
      "Our portfolio showcases our expertise in various technologies, including:\n",
      "\n",
      "* Java: https://example.com/java-portfolio\n",
      "* NodeJS: https://example.com/react-portfolio (our React portfolio demonstrates our proficiency in NodeJS)\n",
      "* AWS: https://example.com/devops-portfolio (our DevOps portfolio highlights our experience with AWS)\n",
      "\n",
      "We've helped numerous enterprises optimize their processes, reduce costs, and increase overall efficiency. Our team is well-versed in designing and implementing scalable applications that leverage prediction models and optimization programs to deliver data-driven decisions.\n",
      "\n",
      "If you're looking for a reliable partner to help you find the perfect Software Engineer or develop custom software solutions, we'd be delighted to discuss how Tesla can support your business needs.\n",
      "\n",
      "Please feel free to reply to this email or schedule a call with me to explore further.\n",
      "\n",
      "Best regards,\n",
      "\n",
      "Prasanth\n",
      "Business Development Executive\n",
      "Tesla\n"
     ]
    }
   ],
   "source": [
    "\n",
    "prompt_email = PromptTemplate.from_template(\n",
    "        \"\"\"\n",
    "        ### JOB DESCRIPTION:\n",
    "        {job_description}\n",
    "        \n",
    "        ### INSTRUCTION:\n",
    "        You are Prasanth, a business development executive at Tesla. Tesla is an AI & Software Consulting company dedicated to facilitating\n",
    "        the seamless integration of business processes through automated tools. \n",
    "        Over our experience, we have empowered numerous enterprises with tailored solutions, fostering scalability, \n",
    "        process optimization, cost reduction, and heightened overall efficiency. \n",
    "        Your job is to write a cold email to the client regarding the job mentioned above describing the capability of Tesla \n",
    "        in fulfilling their needs.\n",
    "        Also add the most relevant ones from the following links to showcase Tesla's portfolio: {link_list}\n",
    "        Remember you are Prasanth, BDE at Tesla. \n",
    "        Do not provide a preamble.\n",
    "        ### EMAIL (NO PREAMBLE):\n",
    "        \n",
    "        \"\"\"\n",
    "        )\n",
    "\n",
    "\n",
    "chain_email = prompt_email | llm\n",
    "res = chain_email.invoke({\"job_description\": str(job), \"link_list\": links})\n",
    "print(res.content)"
   ]
  },
  {
   "cell_type": "code",
   "execution_count": null,
   "id": "449b29bb-e834-4f07-b3fe-92c14fbe2a7a",
   "metadata": {},
   "outputs": [],
   "source": []
  }
 ],
 "metadata": {
  "kernelspec": {
   "display_name": "Python 3 (ipykernel)",
   "language": "python",
   "name": "python3"
  },
  "language_info": {
   "codemirror_mode": {
    "name": "ipython",
    "version": 3
   },
   "file_extension": ".py",
   "mimetype": "text/x-python",
   "name": "python",
   "nbconvert_exporter": "python",
   "pygments_lexer": "ipython3",
   "version": "3.12.7"
  }
 },
 "nbformat": 4,
 "nbformat_minor": 5
}
